{
 "cells": [
  {
   "cell_type": "markdown",
   "id": "65c8f70c",
   "metadata": {},
   "source": [
    "# Imports and Setup\n",
    "\n",
    "Import necessary tools and modules from other files."
   ]
  },
  {
   "cell_type": "markdown",
   "id": "91310b90-6f5e-4715-9668-0dd87442b8d6",
   "metadata": {},
   "source": [
    "Before running this notebook, make sure that all the dependencies listed in __dependencies.txt__ are installed. We have included the install command for two packages that are unlikely to be installed"
   ]
  },
  {
   "cell_type": "code",
   "execution_count": 1,
   "id": "bd54669c-8f12-492a-9a16-ba3ed5c53fa3",
   "metadata": {
    "scrolled": true
   },
   "outputs": [
    {
     "name": "stdout",
     "output_type": "stream",
     "text": [
      "Requirement already satisfied: sacrebleu in /vast/palmer/home.grace/lv346/.conda/envs/nlp_env2/lib/python3.9/site-packages (2.4.2)\n",
      "Requirement already satisfied: portalocker in /vast/palmer/home.grace/lv346/.conda/envs/nlp_env2/lib/python3.9/site-packages (from sacrebleu) (2.8.2)\n",
      "Requirement already satisfied: regex in /vast/palmer/home.grace/lv346/.conda/envs/nlp_env2/lib/python3.9/site-packages (from sacrebleu) (2024.4.28)\n",
      "Requirement already satisfied: tabulate>=0.8.9 in /vast/palmer/home.grace/lv346/.conda/envs/nlp_env2/lib/python3.9/site-packages (from sacrebleu) (0.9.0)\n",
      "Requirement already satisfied: numpy>=1.17 in /vast/palmer/home.grace/lv346/.conda/envs/nlp_env2/lib/python3.9/site-packages (from sacrebleu) (1.26.4)\n",
      "Requirement already satisfied: colorama in /vast/palmer/home.grace/lv346/.conda/envs/nlp_env2/lib/python3.9/site-packages (from sacrebleu) (0.4.6)\n",
      "Requirement already satisfied: lxml in /vast/palmer/home.grace/lv346/.conda/envs/nlp_env2/lib/python3.9/site-packages (from sacrebleu) (5.2.1)\n",
      "Requirement already satisfied: seaborn in /vast/palmer/home.grace/lv346/.conda/envs/nlp_env2/lib/python3.9/site-packages (0.13.2)\n",
      "Requirement already satisfied: numpy!=1.24.0,>=1.20 in /vast/palmer/home.grace/lv346/.conda/envs/nlp_env2/lib/python3.9/site-packages (from seaborn) (1.26.4)\n",
      "Requirement already satisfied: pandas>=1.2 in /vast/palmer/home.grace/lv346/.conda/envs/nlp_env2/lib/python3.9/site-packages (from seaborn) (2.2.2)\n",
      "Requirement already satisfied: matplotlib!=3.6.1,>=3.4 in /vast/palmer/home.grace/lv346/.conda/envs/nlp_env2/lib/python3.9/site-packages (from seaborn) (3.8.4)\n",
      "Requirement already satisfied: contourpy>=1.0.1 in /vast/palmer/home.grace/lv346/.conda/envs/nlp_env2/lib/python3.9/site-packages (from matplotlib!=3.6.1,>=3.4->seaborn) (1.2.1)\n",
      "Requirement already satisfied: cycler>=0.10 in /vast/palmer/home.grace/lv346/.conda/envs/nlp_env2/lib/python3.9/site-packages (from matplotlib!=3.6.1,>=3.4->seaborn) (0.12.1)\n",
      "Requirement already satisfied: fonttools>=4.22.0 in /vast/palmer/home.grace/lv346/.conda/envs/nlp_env2/lib/python3.9/site-packages (from matplotlib!=3.6.1,>=3.4->seaborn) (4.51.0)\n",
      "Requirement already satisfied: kiwisolver>=1.3.1 in /vast/palmer/home.grace/lv346/.conda/envs/nlp_env2/lib/python3.9/site-packages (from matplotlib!=3.6.1,>=3.4->seaborn) (1.4.5)\n",
      "Requirement already satisfied: packaging>=20.0 in /vast/palmer/home.grace/lv346/.conda/envs/nlp_env2/lib/python3.9/site-packages (from matplotlib!=3.6.1,>=3.4->seaborn) (24.0)\n",
      "Requirement already satisfied: pillow>=8 in /vast/palmer/home.grace/lv346/.conda/envs/nlp_env2/lib/python3.9/site-packages (from matplotlib!=3.6.1,>=3.4->seaborn) (10.3.0)\n",
      "Requirement already satisfied: pyparsing>=2.3.1 in /vast/palmer/home.grace/lv346/.conda/envs/nlp_env2/lib/python3.9/site-packages (from matplotlib!=3.6.1,>=3.4->seaborn) (3.1.2)\n",
      "Requirement already satisfied: python-dateutil>=2.7 in /vast/palmer/home.grace/lv346/.conda/envs/nlp_env2/lib/python3.9/site-packages (from matplotlib!=3.6.1,>=3.4->seaborn) (2.9.0)\n",
      "Requirement already satisfied: importlib-resources>=3.2.0 in /vast/palmer/home.grace/lv346/.conda/envs/nlp_env2/lib/python3.9/site-packages (from matplotlib!=3.6.1,>=3.4->seaborn) (6.4.0)\n",
      "Requirement already satisfied: pytz>=2020.1 in /vast/palmer/home.grace/lv346/.conda/envs/nlp_env2/lib/python3.9/site-packages (from pandas>=1.2->seaborn) (2024.1)\n",
      "Requirement already satisfied: tzdata>=2022.7 in /vast/palmer/home.grace/lv346/.conda/envs/nlp_env2/lib/python3.9/site-packages (from pandas>=1.2->seaborn) (2024.1)\n",
      "Requirement already satisfied: zipp>=3.1.0 in /vast/palmer/home.grace/lv346/.conda/envs/nlp_env2/lib/python3.9/site-packages (from importlib-resources>=3.2.0->matplotlib!=3.6.1,>=3.4->seaborn) (3.17.0)\n",
      "Requirement already satisfied: six>=1.5 in /vast/palmer/home.grace/lv346/.conda/envs/nlp_env2/lib/python3.9/site-packages (from python-dateutil>=2.7->matplotlib!=3.6.1,>=3.4->seaborn) (1.16.0)\n",
      "Requirement already satisfied: python-Levenshtein in /vast/palmer/home.grace/lv346/.conda/envs/nlp_env2/lib/python3.9/site-packages (0.25.1)\n",
      "Requirement already satisfied: Levenshtein==0.25.1 in /vast/palmer/home.grace/lv346/.conda/envs/nlp_env2/lib/python3.9/site-packages (from python-Levenshtein) (0.25.1)\n",
      "Requirement already satisfied: rapidfuzz<4.0.0,>=3.8.0 in /vast/palmer/home.grace/lv346/.conda/envs/nlp_env2/lib/python3.9/site-packages (from Levenshtein==0.25.1->python-Levenshtein) (3.9.0)\n"
     ]
    }
   ],
   "source": [
    "!pip install sacrebleu\n",
    "!pip install seaborn\n",
    "!pip install python-Levenshtein"
   ]
  },
  {
   "cell_type": "code",
   "execution_count": 2,
   "id": "1e4379e5",
   "metadata": {},
   "outputs": [],
   "source": [
    "import torch\n",
    "import torch.nn as nn\n",
    "import torch.nn.functional as F\n",
    "from torch import Tensor\n",
    "from torch.utils.data import DataLoader, TensorDataset, random_split\n",
    "from collections import Counter\n",
    "from typing import Optional, Tuple, Dict, List, Union\n",
    "from tqdm import tqdm\n",
    "from tqdm.notebook import tqdm_notebook\n",
    "import Levenshtein\n",
    "\n",
    "from model.tokenizer import CharacterTokenizer\n",
    "from data.data_readers import cognet_reader, ipa_lookup_reader, convert_to_ipa\n",
    "from data.datasets import TranslationData, Direct\n",
    "from model.decoder import TransformerModel, NewInstance"
   ]
  },
  {
   "cell_type": "code",
   "execution_count": 3,
   "id": "e4199df5-3c9a-4a5f-b7e4-25a7260ed2b5",
   "metadata": {},
   "outputs": [
    {
     "name": "stdout",
     "output_type": "stream",
     "text": [
      "Using device: cuda\n"
     ]
    }
   ],
   "source": [
    "device = torch.device(\"cuda\" if torch.cuda.is_available() else \"cpu\")\n",
    "print(f\"Using device: {device}\")"
   ]
  },
  {
   "cell_type": "markdown",
   "id": "12aaba8a",
   "metadata": {},
   "source": [
    "### Only load data during first run of the notebook. Data will be restored faster even after restarting kernel."
   ]
  },
  {
   "cell_type": "markdown",
   "id": "6c5b50f3-76b4-44bb-8eb4-77993443a837",
   "metadata": {},
   "source": [
    "The preprocessing and data exrtraction may take a while. Loading and storing the variables avoids having to rerun every time the kernel is restarted."
   ]
  },
  {
   "cell_type": "code",
   "execution_count": 4,
   "id": "3779b86a",
   "metadata": {},
   "outputs": [],
   "source": [
    "try:\n",
    "    %store -r de_nl_cognates\n",
    "    %store -r en_de_cognates\n",
    "    %store -r germanic_ipa_lookup\n",
    "    de_nl_cognates, en_de_cognates, germanic_ipa_lookup\n",
    "except:\n",
    "    de_nl_cognates = cognet_reader(\"deu\", \"nld\")\n",
    "    en_de_cognates = cognet_reader(\"deu\", \"eng\")\n",
    "    germanic_ipa_lookup = ipa_lookup_reader()\n",
    "    %store germanic_ipa_lookup\n",
    "    %store de_nl_cognates\n",
    "    %store en_de_cognates"
   ]
  },
  {
   "cell_type": "markdown",
   "id": "bbd62b0f",
   "metadata": {},
   "source": [
    "### Convert all cognates to their IPA transliteration."
   ]
  },
  {
   "cell_type": "markdown",
   "id": "45f19642-c427-4e05-9923-1f09f69ad1e3",
   "metadata": {},
   "source": [
    "__Select different languages in arguments__\n",
    "\n",
    "This extracts cognates from the Germanic languages only!\n",
    "\n",
    "\"de\" for German\n",
    "\n",
    "\"en\" for English\n",
    "\n",
    "\"nl\" for Dutch\n",
    "\n",
    "\"sv\" for Swedish"
   ]
  },
  {
   "cell_type": "code",
   "execution_count": 5,
   "id": "be79cdb9",
   "metadata": {},
   "outputs": [
    {
     "name": "stdout",
     "output_type": "stream",
     "text": [
      "### Cognates English-German\n",
      "\n",
      "IPA Transliteration complete.\n",
      "\n",
      "Remaining cognates: 5770\n",
      "\n",
      "### Cognates German-Dutch\n",
      "\n",
      "IPA Transliteration complete.\n",
      "\n",
      "Remaining cognates: 5108\n"
     ]
    }
   ],
   "source": [
    "print(\"### Cognates English-German\\n\")\n",
    "en_de_ipa_cognates = convert_to_ipa(en_de_cognates, germanic_ipa_lookup, \"en\", \"de\")\n",
    "\n",
    "print(\"\\n### Cognates German-Dutch\\n\")\n",
    "nl_de_ipa_cognates = convert_to_ipa(de_nl_cognates, germanic_ipa_lookup, \"nl\", \"de\")"
   ]
  },
  {
   "cell_type": "markdown",
   "id": "da463027-69b4-4abe-a576-9aa609e10ceb",
   "metadata": {},
   "source": [
    "This tool can be used to look up the IPA transliteration of any word in the table."
   ]
  },
  {
   "cell_type": "code",
   "execution_count": 6,
   "id": "7e276414",
   "metadata": {},
   "outputs": [
    {
     "data": {
      "text/plain": [
       "'ətɛmpt'"
      ]
     },
     "execution_count": 6,
     "metadata": {},
     "output_type": "execute_result"
    }
   ],
   "source": [
    "germanic_ipa_lookup[\"en\"][\"attempt\"]"
   ]
  },
  {
   "cell_type": "markdown",
   "id": "6deb49be-0907-4867-bf89-739a217407cf",
   "metadata": {},
   "source": [
    "__Pick the data you would like to run. Let's choose Dutch–German__"
   ]
  },
  {
   "cell_type": "code",
   "execution_count": 7,
   "id": "b6f29c79-a19f-4ec8-98c4-715c18c93bee",
   "metadata": {},
   "outputs": [],
   "source": [
    "germanic_ipa_cognates = nl_de_ipa_cognates\n",
    "# germanic_ipa_cognates = en_de_ipa_cognates"
   ]
  },
  {
   "cell_type": "markdown",
   "id": "dd475103",
   "metadata": {},
   "source": [
    "### Initialize Tokenizer"
   ]
  },
  {
   "cell_type": "code",
   "execution_count": 8,
   "id": "798575cd",
   "metadata": {},
   "outputs": [],
   "source": [
    "# Define max sequence length and initialize tokenizer\n",
    "\n",
    "MAX_SEQ_LEN = 30\n",
    "all_chars = [\"\".join(x + y) for x, y in germanic_ipa_cognates]\n",
    "tokenizer = CharacterTokenizer(all_chars, MAX_SEQ_LEN)\n",
    "\n",
    "#Make sure all cognates are within the MAX_SEQ_LEN range\n",
    "germanic_ipa_cognates = [[a[:MAX_SEQ_LEN], b[:MAX_SEQ_LEN]] for a, b in germanic_ipa_cognates]"
   ]
  },
  {
   "cell_type": "markdown",
   "id": "f9976ccb-0d08-48e4-b169-172c76f7dbe2",
   "metadata": {},
   "source": [
    "### Romance languages"
   ]
  },
  {
   "cell_type": "markdown",
   "id": "2a48dc64-d145-4cd1-ad45-1fd92cf15f54",
   "metadata": {},
   "source": [
    "We can skip this section for now, since we've already chosen Dutch-German. Running these cells won't cause any issues though!"
   ]
  },
  {
   "cell_type": "code",
   "execution_count": 9,
   "id": "3ed71fd0",
   "metadata": {},
   "outputs": [],
   "source": [
    "# Extract Spanish and Italian Cognates from data from Fourrier et al. 2021\n",
    "\n",
    "es = []\n",
    "with open('data/cognate_data/es_it.es', 'r') as file:\n",
    "    for line in file:\n",
    "        es.append(line)     \n",
    "\n",
    "it = []\n",
    "with open('data/cognate_data/es_it.it', 'r') as file:\n",
    "    for line in file:\n",
    "        it.append(line)\n",
    "\n",
    "es = [string.replace(\" \", \"\").replace(\":\", \"\")[:-1] for string in es]\n",
    "it = [string.replace(\" \", \"\").replace(\":\", \"\")[:-1] for string in it]\n",
    "\n",
    "es_it = list(zip(es, it))\n",
    "es_it = [[a[:MAX_SEQ_LEN], b[:MAX_SEQ_LEN]] for a, b in es_it]"
   ]
  },
  {
   "cell_type": "markdown",
   "id": "955991ca-b27b-4cc7-bf24-fc4b0bbe4abe",
   "metadata": {},
   "source": [
    "If you want to run on Romance languages instead, make ROMANCE true to initialize the tokenizer for the Spanish-Italian condition"
   ]
  },
  {
   "cell_type": "code",
   "execution_count": 10,
   "id": "0da7a1c7",
   "metadata": {},
   "outputs": [],
   "source": [
    "ROMANCE = False\n",
    "\n",
    "if ROMANCE:\n",
    "    MAX_SEQ_LEN = 20\n",
    "    all_chars = [\"\".join(x + y) for x, y in es_it]\n",
    "    tokenizer = CharacterTokenizer(all_chars, MAX_SEQ_LEN)"
   ]
  },
  {
   "cell_type": "markdown",
   "id": "1a90eae2",
   "metadata": {},
   "source": [
    "### Initializing a Model"
   ]
  },
  {
   "cell_type": "code",
   "execution_count": 11,
   "id": "6025abf7",
   "metadata": {},
   "outputs": [],
   "source": [
    "config = {\n",
    "    \"tokenizer\": tokenizer,\n",
    "    \"vocab_size\": tokenizer.vocab_size,\n",
    "    \"max_len\": tokenizer.max_length,\n",
    "    \"d_model\": 128,\n",
    "    \"num_heads\": 8,\n",
    "    \"attn_pdrop\": 0.2,\n",
    "    \"dropout\": 0.2,\n",
    "    \"d_ff\": 256,\n",
    "    \"num_layers\": 8,\n",
    "    \"eps\": 1e-6\n",
    "}"
   ]
  },
  {
   "cell_type": "code",
   "execution_count": 12,
   "id": "1bcc9b61",
   "metadata": {},
   "outputs": [],
   "source": [
    "model = NewInstance(config)"
   ]
  },
  {
   "cell_type": "markdown",
   "id": "a46b702a",
   "metadata": {},
   "source": [
    "## Create Dataset"
   ]
  },
  {
   "cell_type": "markdown",
   "id": "dc67bc06-cff9-4210-8097-06b4ccebfe67",
   "metadata": {},
   "source": [
    "Create dataloaders for training, validation and testing purposes. Change the argument to run on different data."
   ]
  },
  {
   "cell_type": "code",
   "execution_count": 13,
   "id": "5efaf541",
   "metadata": {},
   "outputs": [
    {
     "name": "stdout",
     "output_type": "stream",
     "text": [
      "\n",
      "    Created Dataset\n",
      "    \n",
      "    Size: 5000\n",
      "    Batch: 100\n",
      "    Train: 4700 Instances\n",
      "    Val:   200 Instances\n",
      "    Test:  100 Instances\n",
      "    \n",
      "    INPUT TENSOR:\t\tTARGET TENSOR:\t\tSEP INDEX\n",
      "\n",
      "    Tensor(nam)\t\tTensor(namə)\t\n",
      "\n",
      "    \n"
     ]
    }
   ],
   "source": [
    "train_dataloader, val_dataloader, test_dataloader = Direct(tokenizer, germanic_ipa_cognates[:5000], 100, 200, 100, False)"
   ]
  },
  {
   "cell_type": "markdown",
   "id": "d0705ca0-8144-4cd1-82cb-e13cded4d735",
   "metadata": {},
   "source": [
    "This is what the data now looks like. Note that it is already tokenized and the values printed here are the tokenizers decodings."
   ]
  },
  {
   "cell_type": "code",
   "execution_count": 14,
   "id": "bde2a9bd",
   "metadata": {},
   "outputs": [
    {
     "name": "stdout",
     "output_type": "stream",
     "text": [
      "mnemonik mnemotɛçnɪk\n",
      "bœyzərt bʊsaʁt\n",
      "sxɛrpsxʉtər ʃaʁfʃʏtsə\n",
      "vorɣrɔnt fɔʁdɐɡʁʊnt\n",
      "ʒɑnrə ʒɑʁə\n"
     ]
    }
   ],
   "source": [
    "for i in range(5):\n",
    "    a, b = next(iter(train_dataloader))\n",
    "    print(tokenizer.decode(a[i]), tokenizer.decode(b[i]))"
   ]
  },
  {
   "cell_type": "markdown",
   "id": "99a82721-99eb-4f6c-852f-5971e09ac251",
   "metadata": {},
   "source": [
    "__Currently the model only outputs random strings.__"
   ]
  },
  {
   "cell_type": "code",
   "execution_count": 15,
   "id": "0127ea11",
   "metadata": {},
   "outputs": [
    {
     "name": "stdout",
     "output_type": "stream",
     "text": [
      "['zɪʃ<ʉɣrlʁwrøøʤøllldləøʏøadll']\n"
     ]
    }
   ],
   "source": [
    "model.to(device)\n",
    "print(tokenizer.decode(torch.argmax(model(tokenizer([\"ɑspɛkt\"]).to(device)), dim=-1)))"
   ]
  },
  {
   "cell_type": "markdown",
   "id": "1a2c2acf",
   "metadata": {},
   "source": [
    "# Evaluation Metrics"
   ]
  },
  {
   "cell_type": "code",
   "execution_count": 16,
   "id": "6d08b576",
   "metadata": {},
   "outputs": [],
   "source": [
    "import sacrebleu\n",
    "import re\n",
    "\n",
    "def bleu(list_a, list_b, average=True, extract=False):\n",
    "    \n",
    "    def extract_prediction(string, alt):\n",
    "        extracted = re.findall(r'\\|([^|>]*)>', string)\n",
    "        extracted = re.findall(r'\\|([^|>]*)', string)\n",
    "        if not extracted:\n",
    "            extracted = alt\n",
    "        else:\n",
    "            extracted = extracted[0]\n",
    "        return extracted\n",
    "        \n",
    "    if extract:\n",
    "        list_a = [extract_prediction(x, \"A\") for x in list_a]\n",
    "        list_b = [extract_prediction(x, \"B\") for x in list_b]\n",
    "        \n",
    "    score = 0\n",
    "    count = 0\n",
    "    for a, b in zip(list_a, list_b):\n",
    "        score += sacrebleu.sentence_bleu(a, [b], tokenize='char').score\n",
    "        count += 1\n",
    "    if average:\n",
    "        score /= count\n",
    "    return score"
   ]
  },
  {
   "cell_type": "markdown",
   "id": "3d41b456-f4da-43a8-9e14-bfc584214be5",
   "metadata": {},
   "source": [
    "This is the implementation for our CheatBLEU score"
   ]
  },
  {
   "cell_type": "code",
   "execution_count": 17,
   "id": "3b0bfe9b",
   "metadata": {},
   "outputs": [],
   "source": [
    "def best_bleu_selection(inputs, targets, k):\n",
    "    predictions = []\n",
    "    for input, target in zip(inputs, targets):\n",
    "        \n",
    "        logits = model.forward(tokenizer([input]).to(device), None, None)\n",
    "        probabilities = F.softmax(logits, dim=-1)\n",
    "        top_values, top_indeces = torch.topk(logits, k, dim=-1)    \n",
    "        predicted_string = [top_indeces[0][i][0] for i in range(MAX_SEQ_LEN)]\n",
    "        best_string = predicted_string\n",
    "        best_bleu = bleu([tokenizer.decode(torch.stack(best_string))], [target])\n",
    "\n",
    "        for i in range(MAX_SEQ_LEN):\n",
    "            for j in range(k):\n",
    "                new_string = best_string.copy()\n",
    "                new_string[i] = top_indeces[0][i][j]\n",
    "                new_bleu = bleu([tokenizer.decode(torch.stack(new_string))], [target])\n",
    "                if new_bleu > best_bleu:\n",
    "                    best_string = new_string\n",
    "                    best_bleu = new_bleu\n",
    "        predicted_string = tokenizer.decode(torch.stack(best_string))\n",
    "        predictions.append(predicted_string)\n",
    "    return predictions"
   ]
  },
  {
   "cell_type": "markdown",
   "id": "560291ff",
   "metadata": {},
   "source": [
    "# Training Loop"
   ]
  },
  {
   "cell_type": "code",
   "execution_count": 18,
   "id": "b46c4e81",
   "metadata": {},
   "outputs": [],
   "source": [
    "def training_loop(train_dataloader):\n",
    "    \n",
    "    model.train()\n",
    "    \n",
    "    train_loss = 0\n",
    "    instances = 0\n",
    " \n",
    "    with tqdm_notebook(train_dataloader, desc='Training', unit='batch', leave=False) as t:\n",
    "        for input_tensor, target_tensor in t:\n",
    "            input_tensor = input_tensor.to(device)\n",
    "            target_tensor = target_tensor.to(device)\n",
    "\n",
    "            batch_size = input_tensor.shape[0]\n",
    "            instances += batch_size\n",
    "\n",
    "            optimizer.zero_grad()\n",
    "\n",
    "            logits = model(input_tensor, None)\n",
    "            targets = F.one_hot(target_tensor.to(torch.long), tokenizer.vocab_size).to(torch.float)\n",
    "\n",
    "            loss = criterion(logits, targets)\n",
    "            train_loss += loss * batch_size\n",
    "\n",
    "            loss.backward()\n",
    "            optimizer.step()\n",
    "\n",
    "            del input_tensor, target_tensor\n",
    "        \n",
    "    return train_loss / instances\n"
   ]
  },
  {
   "cell_type": "code",
   "execution_count": 19,
   "id": "a7fcc642",
   "metadata": {},
   "outputs": [],
   "source": [
    "def validation_loop(val_dataloader):\n",
    "    \n",
    "    model.eval()\n",
    "    \n",
    "    val_loss = 0\n",
    "    bleu_scores = 0\n",
    "    cheat_scores = 0\n",
    "    instances = 0\n",
    "\n",
    "    with tqdm_notebook(val_dataloader, desc='Validating', unit='batch', leave=False) as t:\n",
    "        for input_tensor, target_tensor in t:\n",
    "            \n",
    "            input_tensor = input_tensor.to(device)\n",
    "            target_tensor = target_tensor.to(device)\n",
    "            \n",
    "            batch_size = input_tensor.shape[0]\n",
    "            instances += batch_size\n",
    "            \n",
    "            logits = model(input_tensor, None)\n",
    "            targets = F.one_hot(target_tensor.to(torch.long), tokenizer.vocab_size).to(torch.float).to(device)\n",
    "            \n",
    "            prediction = tokenizer.decode(torch.argmax(logits, dim=-1))\n",
    "            ground_truth = tokenizer.decode(target_tensor)  \n",
    "            \n",
    "            best_bleu_generations = best_bleu_selection(tokenizer.decode(input_tensor.to('cpu')), ground_truth, 4)\n",
    "            \n",
    "            loss = criterion(logits, targets)\n",
    "            val_loss += loss * batch_size\n",
    "            bleu_scores += bleu(prediction, ground_truth, average=False, extract=False)\n",
    "            cheat_scores += bleu(best_bleu_generations, ground_truth, average=False, extract=False)\n",
    "            a = input_tensor[0]\n",
    "            del input_tensor, target_tensor\n",
    "            \n",
    "        val_loss /= instances\n",
    "        bleu_scores /= instances\n",
    "        cheat_scores /= instances\n",
    "        print(f\"Input: {tokenizer.decode(a)},\\tTarget: {ground_truth[0]},\\tPredicted: {prediction[0]}\")     \n",
    "    return (val_loss, bleu_scores, cheat_scores)   \n",
    "    "
   ]
  },
  {
   "cell_type": "markdown",
   "id": "45f61e41-2a9f-46ce-9d44-5456cf8bafb1",
   "metadata": {},
   "source": [
    "### Initilize a new model and train!"
   ]
  },
  {
   "cell_type": "markdown",
   "id": "3394e83a-2e2e-468b-aedf-fd6eb6079ddb",
   "metadata": {},
   "source": [
    "Specify the configuraton of the model"
   ]
  },
  {
   "cell_type": "code",
   "execution_count": 20,
   "id": "b7fc12d1",
   "metadata": {},
   "outputs": [],
   "source": [
    "if model:\n",
    "    del model\n",
    "\n",
    "config = {\n",
    "    \"tokenizer\": tokenizer,\n",
    "    \"vocab_size\": tokenizer.vocab_size,\n",
    "    \"max_len\": tokenizer.max_length,\n",
    "    \"d_model\": 32,\n",
    "    \"num_heads\": 4,\n",
    "    \"attn_pdrop\": 0.4,\n",
    "    \"dropout\": 0.4,\n",
    "    \"d_ff\": 64,\n",
    "    \"num_layers\": 4,\n",
    "    \"eps\": 1e-6\n",
    "}\n",
    "\n",
    "model = NewInstance(config)"
   ]
  },
  {
   "cell_type": "markdown",
   "id": "39cb554e-6c47-4c75-b61a-f073d3435454",
   "metadata": {},
   "source": [
    "Train the model!"
   ]
  },
  {
   "cell_type": "code",
   "execution_count": 21,
   "id": "5665120f",
   "metadata": {},
   "outputs": [
    {
     "data": {
      "application/vnd.jupyter.widget-view+json": {
       "model_id": "b974363bbce24aedb2c61373ee393b56",
       "version_major": 2,
       "version_minor": 0
      },
      "text/plain": [
       "Epochs:   0%|          | 0/10 [00:00<?, ?it/s]"
      ]
     },
     "metadata": {},
     "output_type": "display_data"
    },
    {
     "name": "stdout",
     "output_type": "stream",
     "text": [
      "EPOCH #1\t"
     ]
    },
    {
     "data": {
      "application/vnd.jupyter.widget-view+json": {
       "model_id": "",
       "version_major": 2,
       "version_minor": 0
      },
      "text/plain": [
       "Training:   0%|          | 0/47 [00:00<?, ?batch/s]"
      ]
     },
     "metadata": {},
     "output_type": "display_data"
    },
    {
     "name": "stdout",
     "output_type": "stream",
     "text": [
      "Training Loss: 1.7808\n"
     ]
    },
    {
     "data": {
      "application/vnd.jupyter.widget-view+json": {
       "model_id": "",
       "version_major": 2,
       "version_minor": 0
      },
      "text/plain": [
       "Validating:   0%|          | 0/2 [00:00<?, ?batch/s]"
      ]
     },
     "metadata": {},
     "output_type": "display_data"
    },
    {
     "name": "stdout",
     "output_type": "stream",
     "text": [
      "Input: bəsmørə,\tTarget: bəʃmʊtsn,\tPredicted: bəbmoʁə\n",
      "Validation Loss: 1.6693\n",
      "Validation BLEU: 24.05658544530729\n",
      "Cheating BLEU: 37.728370053688735\n",
      "Epoch is complete.\n",
      "\n",
      "\n",
      "EPOCH #2\t"
     ]
    },
    {
     "data": {
      "application/vnd.jupyter.widget-view+json": {
       "model_id": "",
       "version_major": 2,
       "version_minor": 0
      },
      "text/plain": [
       "Training:   0%|          | 0/47 [00:00<?, ?batch/s]"
      ]
     },
     "metadata": {},
     "output_type": "display_data"
    },
    {
     "name": "stdout",
     "output_type": "stream",
     "text": [
      "Training Loss: 1.6431\n"
     ]
    },
    {
     "data": {
      "application/vnd.jupyter.widget-view+json": {
       "model_id": "",
       "version_major": 2,
       "version_minor": 0
      },
      "text/plain": [
       "Validating:   0%|          | 0/2 [00:00<?, ?batch/s]"
      ]
     },
     "metadata": {},
     "output_type": "display_data"
    },
    {
     "name": "stdout",
     "output_type": "stream",
     "text": [
      "Input: œytrɛkə,\tTarget: ʃtʁɛkn,\tPredicted: autʁɛkə\n",
      "Validation Loss: 1.6106\n",
      "Validation BLEU: 38.70608697427562\n",
      "Cheating BLEU: 58.152109748935075\n",
      "Epoch is complete.\n",
      "\n",
      "\n",
      "EPOCH #3\t"
     ]
    },
    {
     "data": {
      "application/vnd.jupyter.widget-view+json": {
       "model_id": "",
       "version_major": 2,
       "version_minor": 0
      },
      "text/plain": [
       "Training:   0%|          | 0/47 [00:00<?, ?batch/s]"
      ]
     },
     "metadata": {},
     "output_type": "display_data"
    },
    {
     "name": "stdout",
     "output_type": "stream",
     "text": [
      "Training Loss: 1.6055\n"
     ]
    },
    {
     "data": {
      "application/vnd.jupyter.widget-view+json": {
       "model_id": "",
       "version_major": 2,
       "version_minor": 0
      },
      "text/plain": [
       "Validating:   0%|          | 0/2 [00:00<?, ?batch/s]"
      ]
     },
     "metadata": {},
     "output_type": "display_data"
    },
    {
     "name": "stdout",
     "output_type": "stream",
     "text": [
      "Input: xɛisər,\tTarget: ɡaɪziɐ,\tPredicted: ɡɛisəʁ\n",
      "Validation Loss: 1.5912\n",
      "Validation BLEU: 42.174075534517144\n",
      "Cheating BLEU: 62.672277288669086\n",
      "Epoch is complete.\n",
      "\n",
      "\n",
      "EPOCH #4\t"
     ]
    },
    {
     "data": {
      "application/vnd.jupyter.widget-view+json": {
       "model_id": "",
       "version_major": 2,
       "version_minor": 0
      },
      "text/plain": [
       "Training:   0%|          | 0/47 [00:00<?, ?batch/s]"
      ]
     },
     "metadata": {},
     "output_type": "display_data"
    },
    {
     "name": "stdout",
     "output_type": "stream",
     "text": [
      "Training Loss: 1.589\n"
     ]
    },
    {
     "data": {
      "application/vnd.jupyter.widget-view+json": {
       "model_id": "",
       "version_major": 2,
       "version_minor": 0
      },
      "text/plain": [
       "Validating:   0%|          | 0/2 [00:00<?, ?batch/s]"
      ]
     },
     "metadata": {},
     "output_type": "display_data"
    },
    {
     "name": "stdout",
     "output_type": "stream",
     "text": [
      "Input: xɑndər,\tTarget: ɡanzɐ,\tPredicted: ɡandəʁə\n",
      "Validation Loss: 1.5796\n",
      "Validation BLEU: 40.536476533439945\n",
      "Cheating BLEU: 64.97180623412059\n",
      "Epoch is complete.\n",
      "\n",
      "\n",
      "EPOCH #5\t"
     ]
    },
    {
     "data": {
      "application/vnd.jupyter.widget-view+json": {
       "model_id": "",
       "version_major": 2,
       "version_minor": 0
      },
      "text/plain": [
       "Training:   0%|          | 0/47 [00:00<?, ?batch/s]"
      ]
     },
     "metadata": {},
     "output_type": "display_data"
    },
    {
     "name": "stdout",
     "output_type": "stream",
     "text": [
      "Training Loss: 1.5796\n"
     ]
    },
    {
     "data": {
      "application/vnd.jupyter.widget-view+json": {
       "model_id": "",
       "version_major": 2,
       "version_minor": 0
      },
      "text/plain": [
       "Validating:   0%|          | 0/2 [00:00<?, ?batch/s]"
      ]
     },
     "metadata": {},
     "output_type": "display_data"
    },
    {
     "name": "stdout",
     "output_type": "stream",
     "text": [
      "Input: ɑpostrɔf,\tTarget: apostʁof,\tPredicted: apoztʁoʊ\n",
      "Validation Loss: 1.5724\n",
      "Validation BLEU: 38.089059407054116\n",
      "Cheating BLEU: 67.00740483156173\n",
      "Epoch is complete.\n",
      "\n",
      "\n",
      "EPOCH #6\t"
     ]
    },
    {
     "data": {
      "application/vnd.jupyter.widget-view+json": {
       "model_id": "",
       "version_major": 2,
       "version_minor": 0
      },
      "text/plain": [
       "Training:   0%|          | 0/47 [00:00<?, ?batch/s]"
      ]
     },
     "metadata": {},
     "output_type": "display_data"
    },
    {
     "name": "stdout",
     "output_type": "stream",
     "text": [
      "Training Loss: 1.5735\n"
     ]
    },
    {
     "data": {
      "application/vnd.jupyter.widget-view+json": {
       "model_id": "",
       "version_major": 2,
       "version_minor": 0
      },
      "text/plain": [
       "Validating:   0%|          | 0/2 [00:00<?, ?batch/s]"
      ]
     },
     "metadata": {},
     "output_type": "display_data"
    },
    {
     "name": "stdout",
     "output_type": "stream",
     "text": [
      "Input: spɛrma,\tTarget: zamən,\tPredicted: zpɛʁmaə\n",
      "Validation Loss: 1.568\n",
      "Validation BLEU: 38.037760806213235\n",
      "Cheating BLEU: 67.84178811354288\n",
      "Epoch is complete.\n",
      "\n",
      "\n",
      "EPOCH #7\t"
     ]
    },
    {
     "data": {
      "application/vnd.jupyter.widget-view+json": {
       "model_id": "",
       "version_major": 2,
       "version_minor": 0
      },
      "text/plain": [
       "Training:   0%|          | 0/47 [00:00<?, ?batch/s]"
      ]
     },
     "metadata": {},
     "output_type": "display_data"
    },
    {
     "name": "stdout",
     "output_type": "stream",
     "text": [
      "Training Loss: 1.5688\n"
     ]
    },
    {
     "data": {
      "application/vnd.jupyter.widget-view+json": {
       "model_id": "",
       "version_major": 2,
       "version_minor": 0
      },
      "text/plain": [
       "Validating:   0%|          | 0/2 [00:00<?, ?batch/s]"
      ]
     },
     "metadata": {},
     "output_type": "display_data"
    },
    {
     "name": "stdout",
     "output_type": "stream",
     "text": [
      "Input: knaɣə,\tTarget: naɡn,\tPredicted: knaɡə\n",
      "Validation Loss: 1.5664\n",
      "Validation BLEU: 43.41394439081659\n",
      "Cheating BLEU: 70.60191994283947\n",
      "Epoch is complete.\n",
      "\n",
      "\n",
      "EPOCH #8\t"
     ]
    },
    {
     "data": {
      "application/vnd.jupyter.widget-view+json": {
       "model_id": "",
       "version_major": 2,
       "version_minor": 0
      },
      "text/plain": [
       "Training:   0%|          | 0/47 [00:00<?, ?batch/s]"
      ]
     },
     "metadata": {},
     "output_type": "display_data"
    },
    {
     "name": "stdout",
     "output_type": "stream",
     "text": [
      "Training Loss: 1.5659\n"
     ]
    },
    {
     "data": {
      "application/vnd.jupyter.widget-view+json": {
       "model_id": "",
       "version_major": 2,
       "version_minor": 0
      },
      "text/plain": [
       "Validating:   0%|          | 0/2 [00:00<?, ?batch/s]"
      ]
     },
     "metadata": {},
     "output_type": "display_data"
    },
    {
     "name": "stdout",
     "output_type": "stream",
     "text": [
      "Input: votʉm,\tTarget: votʊm,\tPredicted: votʊm\n",
      "Validation Loss: 1.5625\n",
      "Validation BLEU: 41.91806456036451\n",
      "Cheating BLEU: 71.49619921605291\n",
      "Epoch is complete.\n",
      "\n",
      "\n",
      "EPOCH #9\t"
     ]
    },
    {
     "data": {
      "application/vnd.jupyter.widget-view+json": {
       "model_id": "",
       "version_major": 2,
       "version_minor": 0
      },
      "text/plain": [
       "Training:   0%|          | 0/47 [00:00<?, ?batch/s]"
      ]
     },
     "metadata": {},
     "output_type": "display_data"
    },
    {
     "name": "stdout",
     "output_type": "stream",
     "text": [
      "Training Loss: 1.5626\n"
     ]
    },
    {
     "data": {
      "application/vnd.jupyter.widget-view+json": {
       "model_id": "",
       "version_major": 2,
       "version_minor": 0
      },
      "text/plain": [
       "Validating:   0%|          | 0/2 [00:00<?, ?batch/s]"
      ]
     },
     "metadata": {},
     "output_type": "display_data"
    },
    {
     "name": "stdout",
     "output_type": "stream",
     "text": [
      "Input: medikamɛnt,\tTarget: medikamɛnt,\tPredicted: medikamɛnt\n",
      "Validation Loss: 1.5598\n",
      "Validation BLEU: 40.5874654459458\n",
      "Cheating BLEU: 71.75985205869361\n",
      "Epoch is complete.\n",
      "\n",
      "\n",
      "EPOCH #10\t"
     ]
    },
    {
     "data": {
      "application/vnd.jupyter.widget-view+json": {
       "model_id": "",
       "version_major": 2,
       "version_minor": 0
      },
      "text/plain": [
       "Training:   0%|          | 0/47 [00:00<?, ?batch/s]"
      ]
     },
     "metadata": {},
     "output_type": "display_data"
    },
    {
     "name": "stdout",
     "output_type": "stream",
     "text": [
      "Training Loss: 1.5604\n"
     ]
    },
    {
     "data": {
      "application/vnd.jupyter.widget-view+json": {
       "model_id": "",
       "version_major": 2,
       "version_minor": 0
      },
      "text/plain": [
       "Validating:   0%|          | 0/2 [00:00<?, ?batch/s]"
      ]
     },
     "metadata": {},
     "output_type": "display_data"
    },
    {
     "name": "stdout",
     "output_type": "stream",
     "text": [
      "Input: stɪkə,\tTarget: ɛɐʃtɪkn,\tPredicted: ztɪkəə\n",
      "Validation Loss: 1.5571\n",
      "Validation BLEU: 41.71663044158484\n",
      "Cheating BLEU: 72.0659705308885\n",
      "Epoch is complete.\n",
      "\n",
      "\n"
     ]
    },
    {
     "data": {
      "image/png": "[encoded data removed]",
      "text/plain": [
       "<Figure size 1200x500 with 2 Axes>"
      ]
     },
     "metadata": {},
     "output_type": "display_data"
    }
   ],
   "source": [
    "import matplotlib.pyplot as plt\n",
    "\n",
    "model = model.to(device)\n",
    "criterion = nn.CrossEntropyLoss()\n",
    "optimizer = torch.optim.AdamW(model.parameters(), lr=0.001, weight_decay=0.075)\n",
    "\n",
    "EPOCHS = 10\n",
    "\n",
    "train_loss = []\n",
    "val_loss =[]\n",
    "train_bleu = []\n",
    "val_bleu = []\n",
    "cheat_bleu = []\n",
    "\n",
    "with tqdm_notebook(range(EPOCHS), desc=\"Epochs\") as epochs:\n",
    "    for epoch in epochs:\n",
    "\n",
    "        print(f\"EPOCH #{epoch+1}\", end=\"\\t\")\n",
    "\n",
    "        training_loss = training_loop(train_dataloader)\n",
    "        \n",
    "        print(f\"Training Loss: {round(training_loss.item(), 4)}\")\n",
    "        \n",
    "        validation_loss, validation_bleu, cheating_bleu = validation_loop(val_dataloader)\n",
    "        \n",
    "        print(f\"Validation Loss: {round(validation_loss.item(), 4)}\")\n",
    "        print(f\"Validation BLEU: {validation_bleu}\")\n",
    "        print(f\"Cheating BLEU: {cheating_bleu}\")\n",
    "        print(\"Epoch is complete.\\n\\n\")\n",
    "        \n",
    "        val_loss.append(validation_loss.item())\n",
    "        val_bleu.append(validation_bleu)\n",
    "        cheat_bleu.append(cheating_bleu)\n",
    "        \n",
    "        train_loss.append(training_loss.item())\n",
    "        \n",
    "epochs = range(1, len(train_loss) + 1)\n",
    "epoch_interval = int(len(train_loss)//len(val_loss))\n",
    "\n",
    "fig, axs = plt.subplots(1, 2, figsize=(12, 5))\n",
    "\n",
    "validation_epochs = range(epoch_interval, len(train_loss) + 1, epoch_interval)\n",
    "\n",
    "axs[0].plot(epochs, train_loss, 'bo-', label='Training Loss')\n",
    "axs[0].plot(validation_epochs, val_loss, 'ro-', label='Validation Loss')\n",
    "axs[0].set_title('Training and Validation Loss')\n",
    "axs[0].set_xlabel('Epochs')\n",
    "axs[0].set_ylabel('Loss')\n",
    "axs[0].legend()\n",
    "axs[0].grid(True)\n",
    "\n",
    "axs[1].plot(validation_epochs, val_bleu, 'bo-', label='Validation BLEU')\n",
    "axs[1].plot(validation_epochs, cheat_bleu, 'ro-', label='Cheating BLEU')\n",
    "axs[1].set_title('BLEU Scores')\n",
    "axs[1].set_xlabel('Epochs')\n",
    "axs[1].set_ylabel('BLEU')\n",
    "axs[1].legend()\n",
    "axs[1].grid(True)\n",
    "\n",
    "plt.tight_layout()\n",
    "plt.show()\n"
   ]
  },
  {
   "cell_type": "markdown",
   "id": "d8b4ab1c-6124-4120-b552-6555931748bb",
   "metadata": {},
   "source": [
    "### Load and/or save models. "
   ]
  },
  {
   "cell_type": "code",
   "execution_count": 22,
   "id": "b447100a",
   "metadata": {},
   "outputs": [],
   "source": [
    "model_name = \"nl_de-large\"\n",
    "# torch.save(model, f'models/{model_name}')\n",
    "# model = torch.load(f'models/{model_name}')"
   ]
  },
  {
   "cell_type": "code",
   "execution_count": 23,
   "id": "8564e3a6-fd96-4e7e-bf6a-e8ff6fb441be",
   "metadata": {},
   "outputs": [
    {
     "data": {
      "application/vnd.jupyter.widget-view+json": {
       "model_id": "",
       "version_major": 2,
       "version_minor": 0
      },
      "text/plain": [
       "Validating:   0%|          | 0/2 [00:00<?, ?batch/s]"
      ]
     },
     "metadata": {},
     "output_type": "display_data"
    },
    {
     "name": "stdout",
     "output_type": "stream",
     "text": [
      "Input: sirɪlis,\tTarget: kyʁɪlɪʃ,\tPredicted: ziʁɪlisə\n",
      "Validation Loss: 1.5571\n",
      "Validation BLEU: 41.71663044158484\n",
      "Cheating BLEU: 72.06597053088852\n"
     ]
    },
    {
     "data": {
      "application/vnd.jupyter.widget-view+json": {
       "model_id": "",
       "version_major": 2,
       "version_minor": 0
      },
      "text/plain": [
       "Validating:   0%|          | 0/1 [00:00<?, ?batch/s]"
      ]
     },
     "metadata": {},
     "output_type": "display_data"
    },
    {
     "name": "stdout",
     "output_type": "stream",
     "text": [
      "Input: manɪŋ,\tTarget: manʊŋ,\tPredicted: manɪŋəə\n",
      "Validation Loss: 1.5453\n",
      "Validation BLEU: 44.805104531682346\n",
      "Cheating BLEU: 71.84750069634423\n"
     ]
    }
   ],
   "source": [
    "model.eval()\n",
    "\n",
    "# Validation set\n",
    "\n",
    "validation_loss, validation_bleu, cheat_bleu = validation_loop(val_dataloader)\n",
    "print(f\"Validation Loss: {round(validation_loss.item(), 4)}\")\n",
    "print(f\"Validation BLEU: {validation_bleu}\")\n",
    "print(f\"Cheating BLEU: {cheat_bleu}\")\n",
    "\n",
    "# Test set\n",
    "\n",
    "validation_loss, validation_bleu, cheat_bleu = validation_loop(test_dataloader)\n",
    "print(f\"Validation Loss: {round(validation_loss.item(), 4)}\")\n",
    "print(f\"Validation BLEU: {validation_bleu}\")\n",
    "print(f\"Cheating BLEU: {cheat_bleu}\")"
   ]
  },
  {
   "cell_type": "markdown",
   "id": "744b90fd-e3aa-480c-b026-15d3634eb655",
   "metadata": {},
   "source": [
    "## Levenshtein Distance"
   ]
  },
  {
   "cell_type": "markdown",
   "id": "c9ae364f-97d7-4b0c-874b-8176d981ad1e",
   "metadata": {},
   "source": [
    "Calculate the average edit distance of the validation set"
   ]
  },
  {
   "cell_type": "markdown",
   "id": "b8ad9132-3954-4ad3-8534-3df8c3b2e360",
   "metadata": {},
   "source": [
    "Calculate the edit baseline, using the input and target output. (Should be pretty low since input and output are already linguistically similar)"
   ]
  },
  {
   "cell_type": "markdown",
   "id": "223b66cc-e18d-487c-afc8-f59d000e5c8e",
   "metadata": {},
   "source": [
    "Note that lower edit distance is better!"
   ]
  },
  {
   "cell_type": "code",
   "execution_count": 24,
   "id": "c2f807d2-b2e6-4aa0-9c0c-e5f07567ff7c",
   "metadata": {},
   "outputs": [
    {
     "data": {
      "text/plain": [
       "(3.1685106382978723, 3.40531914893617)"
      ]
     },
     "execution_count": 24,
     "metadata": {},
     "output_type": "execute_result"
    }
   ],
   "source": [
    "def levenshtein_prediction(dataloader):\n",
    "    l = []\n",
    "    for a,b in dataloader:\n",
    "        input_tensor = a.to(device)\n",
    "        input_str = tokenizer.decode(input_tensor)\n",
    "        target_tensor = b.to(device)\n",
    "        logits = model(input_tensor, None)    \n",
    "        prediction = tokenizer.decode(torch.argmax(logits, dim=-1))\n",
    "        ground_truth = tokenizer.decode(target_tensor)\n",
    "        for x, y in zip(prediction, ground_truth):\n",
    "            l.append(Levenshtein.distance(x, y))\n",
    "    return sum(l)/len(l)\n",
    "\n",
    "def levenshtein_baseline(dataloader):\n",
    "    l = []\n",
    "    for a,b in dataloader:\n",
    "        input_str = tokenizer.decode(a)\n",
    "        ground_truth = tokenizer.decode(b)\n",
    "        for x, y in zip(input_str, ground_truth):\n",
    "            l.append(Levenshtein.distance(x, y))\n",
    "    return sum(l)/len(l)\n",
    "    \n",
    "\n",
    "levenshtein_prediction(train_dataloader), levenshtein_baseline(train_dataloader)"
   ]
  },
  {
   "cell_type": "markdown",
   "id": "4af38b01-0737-4c8c-a50f-fc117885ef1d",
   "metadata": {},
   "source": [
    "## Qualitative Analysis"
   ]
  },
  {
   "cell_type": "markdown",
   "id": "d9e8e2d6-77d4-4dd0-8589-3df5e215ed39",
   "metadata": {},
   "source": [
    "Load one of the models and analyze any outputs"
   ]
  },
  {
   "cell_type": "code",
   "execution_count": 25,
   "id": "f5fcb91e",
   "metadata": {},
   "outputs": [
    {
     "data": {
      "text/plain": [
       "TransformerModel(\n",
       "  (token_embedder): TokenEmbedder(\n",
       "    (token_embedding): Embedding(\n",
       "      (emb): Embedding(52, 1000)\n",
       "    )\n",
       "    (positional_embedding): PositionalEmbeddings(\n",
       "      (positional_embeddings): Embedding(30, 1000)\n",
       "    )\n",
       "  )\n",
       "  (transformer_stack): TransformerStack(\n",
       "    (layers): ModuleList(\n",
       "      (0-4): 5 x TransformerBlock(\n",
       "        (attn): MultiHeadAttention(\n",
       "          (q_proj): Linear(in_features=1000, out_features=1000, bias=True)\n",
       "          (k_proj): Linear(in_features=1000, out_features=1000, bias=True)\n",
       "          (v_proj): Linear(in_features=1000, out_features=1000, bias=True)\n",
       "          (out_proj): Linear(in_features=1000, out_features=1000, bias=True)\n",
       "          (attn_dropout): Dropout(p=0.4, inplace=False)\n",
       "        )\n",
       "        (ln1): LayerNorm()\n",
       "        (ff): FeedForward(\n",
       "          (ln1): Linear(in_features=1000, out_features=2000, bias=True)\n",
       "          (ln2): Linear(in_features=2000, out_features=1000, bias=True)\n",
       "          (relu): ReLU()\n",
       "          (dropout): Dropout(p=0.4, inplace=False)\n",
       "        )\n",
       "        (ln2): LayerNorm()\n",
       "      )\n",
       "    )\n",
       "    (squeeze): Linear(in_features=24000, out_features=500, bias=True)\n",
       "    (l1): Linear(in_features=500, out_features=400, bias=True)\n",
       "    (l2): Linear(in_features=400, out_features=300, bias=True)\n",
       "    (l3): Linear(in_features=300, out_features=200, bias=True)\n",
       "    (l4): Linear(in_features=200, out_features=100, bias=True)\n",
       "    (tanh): Tanh()\n",
       "    (tangle): Linear(in_features=100, out_features=100, bias=True)\n",
       "    (l4_): Linear(in_features=100, out_features=200, bias=True)\n",
       "    (l3_): Linear(in_features=200, out_features=300, bias=True)\n",
       "    (l2_): Linear(in_features=300, out_features=400, bias=True)\n",
       "    (l1_): Linear(in_features=400, out_features=500, bias=True)\n",
       "    (unsqueeze): Linear(in_features=500, out_features=24000, bias=True)\n",
       "    (a): ModuleList(\n",
       "      (0-4): 5 x TransformerBlock(\n",
       "        (attn): MultiHeadAttention(\n",
       "          (q_proj): Linear(in_features=1000, out_features=1000, bias=True)\n",
       "          (k_proj): Linear(in_features=1000, out_features=1000, bias=True)\n",
       "          (v_proj): Linear(in_features=1000, out_features=1000, bias=True)\n",
       "          (out_proj): Linear(in_features=1000, out_features=1000, bias=True)\n",
       "          (attn_dropout): Dropout(p=0.4, inplace=False)\n",
       "        )\n",
       "        (ln1): LayerNorm()\n",
       "        (ff): FeedForward(\n",
       "          (ln1): Linear(in_features=1000, out_features=2000, bias=True)\n",
       "          (ln2): Linear(in_features=2000, out_features=1000, bias=True)\n",
       "          (relu): ReLU()\n",
       "          (dropout): Dropout(p=0.4, inplace=False)\n",
       "        )\n",
       "        (ln2): LayerNorm()\n",
       "      )\n",
       "    )\n",
       "  )\n",
       "  (projection): Projection(\n",
       "    (ff): Linear(in_features=1000, out_features=52, bias=True)\n",
       "  )\n",
       ")"
      ]
     },
     "execution_count": 25,
     "metadata": {},
     "output_type": "execute_result"
    }
   ],
   "source": [
    "model = torch.load(f'models/nl_de-small')\n",
    "model.eval()"
   ]
  },
  {
   "cell_type": "markdown",
   "id": "a2282b8f-eb3f-4346-9642-f1804eec12e4",
   "metadata": {},
   "source": [
    "Analyze the naive versus cheat prediction"
   ]
  },
  {
   "cell_type": "code",
   "execution_count": 26,
   "id": "e8a992a4",
   "metadata": {},
   "outputs": [
    {
     "name": "stdout",
     "output_type": "stream",
     "text": [
      "['stiʁəə']\n",
      "['ʃtɛʁn']\n"
     ]
    }
   ],
   "source": [
    "print(tokenizer.decode(torch.argmax(model(tokenizer([\"stɛr\"]).to(device), None, False), dim=-1)))\n",
    "print(best_bleu_selection([\"stɛr\"], [\"ʃtɛʁn\"], 3))"
   ]
  },
  {
   "cell_type": "code",
   "execution_count": 27,
   "id": "eb84c696-8a7a-4b42-9b36-2740454d611a",
   "metadata": {},
   "outputs": [
    {
     "name": "stdout",
     "output_type": "stream",
     "text": [
      "Input: hɔl\n",
      "Target: hølə\n",
      "Naive prediction: hʊlənə\t17.965\n",
      "Cheat prediction: hʊlən\t23.644\n",
      "\n",
      "Input: ʋɑslɛin\n",
      "Target: vɛʃəlaɪnə\n",
      "Naive prediction: vaslɛnnn\t7.288\n",
      "Cheat prediction: vɛʃəanə\t38.185\n",
      "\n"
     ]
    },
    {
     "data": {
      "text/plain": [
       "72.97336499999997"
      ]
     },
     "execution_count": 27,
     "metadata": {},
     "output_type": "execute_result"
    }
   ],
   "source": [
    "depth = 3\n",
    "scores = []\n",
    "for a,b in val_dataloader:\n",
    "    for i in range(len(a)):\n",
    "        prediction = tokenizer.decode(torch.argmax(model(a[i].unsqueeze(0).to(device)), dim=-1))[0]\n",
    "        cheat_prediction = best_bleu_selection([tokenizer.decode(a[i])], [tokenizer.decode(b[i])], depth)[0]\n",
    "        bleuscore = round(bleu([prediction], [tokenizer.decode(b[i])]), 3)\n",
    "        cheat_bleuscore = round(bleu([cheat_prediction], [tokenizer.decode(b[i])]), 3)\n",
    "        scores.append(cheat_bleuscore)\n",
    "        if i == 0:\n",
    "            print(f\"Input: {tokenizer.decode(a[i])}\")\n",
    "            print(f\"Target: {tokenizer.decode(b[i])}\")\n",
    "            print(f\"Naive prediction: {prediction}\\t{bleuscore}\")\n",
    "            print(f\"Cheat prediction: {cheat_prediction}\\t{cheat_bleuscore}\\n\")\n",
    "sum(scores)/len(scores)"
   ]
  },
  {
   "cell_type": "markdown",
   "id": "04be142b-1b27-4816-b207-08e83c933b46",
   "metadata": {},
   "source": [
    "Let's see how increasing the cheat depth improves performance. This will take a while!"
   ]
  },
  {
   "cell_type": "code",
   "execution_count": 28,
   "id": "d4eb0165",
   "metadata": {},
   "outputs": [],
   "source": [
    "cheat_bleu_depth_scores = []\n",
    "\n",
    "for f in range(1, 20):\n",
    "    scores = []\n",
    "    for a,b in test_dataloader:\n",
    "        for i in range(len(a)):\n",
    "            prediction = tokenizer.decode(torch.argmax(model(a[i].unsqueeze(0).to(device)), dim=-1))[0]\n",
    "            cheat_prediction = best_bleu_selection([tokenizer.decode(a[i])], [tokenizer.decode(b[i])], f)[0]\n",
    "            bleuscore = round(bleu([prediction], [tokenizer.decode(b[i])]), 3)\n",
    "            cheat_bleuscore = round(bleu([cheat_prediction], [tokenizer.decode(b[i])]), 3)\n",
    "            scores.append(cheat_bleuscore)\n",
    "    cheat_bleu_depth_scores.append(sum(scores)/len(scores))"
   ]
  },
  {
   "cell_type": "code",
   "execution_count": 29,
   "id": "ac603bf2-b89b-4ff3-968f-c8c50ae1c8ce",
   "metadata": {},
   "outputs": [
    {
     "data": {
      "image/png": "[encoded data removed]",
      "text/plain": [
       "<Figure size 400x400 with 1 Axes>"
      ]
     },
     "metadata": {},
     "output_type": "display_data"
    }
   ],
   "source": [
    "plt.figure(figsize=(4, 4))\n",
    "plt.plot(cheat_bleu_depth_scores, marker='o') \n",
    "plt.xlabel('Cheat Depth')\n",
    "plt.ylabel('BLEU Score')\n",
    "plt.grid(True)\n",
    "plt.show() "
   ]
  },
  {
   "cell_type": "code",
   "execution_count": null,
   "id": "ddb19d40-96d4-4718-af17-818cc7ad10dc",
   "metadata": {},
   "outputs": [],
   "source": []
  }
 ],
 "metadata": {
  "kernelspec": {
   "display_name": "Python 3 (ipykernel)",
   "language": "python",
   "name": "python3"
  },
  "language_info": {
   "codemirror_mode": {
    "name": "ipython",
    "version": 3
   },
   "file_extension": ".py",
   "mimetype": "text/x-python",
   "name": "python",
   "nbconvert_exporter": "python",
   "pygments_lexer": "ipython3",
   "version": "3.9.13"
  }
 },
 "nbformat": 4,
 "nbformat_minor": 5
}
